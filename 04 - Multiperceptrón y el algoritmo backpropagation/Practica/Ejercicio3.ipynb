{
 "cells": [
  {
   "cell_type": "code",
   "execution_count": 8,
   "metadata": {},
   "outputs": [],
   "source": [
    "# configuración para notebook con instalación LOCAL\n",
    "FUENTES_DIR  = '../../Datos-Fuentes/Fuentes/'     # carpeta donde se encuentran archivos .py auxiliares\n",
    "DATOS_DIR    = '../../Datos-Fuentes/Datos/'      # carpeta donde se encuentran los datasets\n",
    "MODELOS_DIR  = '../Modelos/'    # carpeta donde se encuentran los modelos\n",
    "ARCHIVOs_DIR = '../Archivos/'   # carpeta recuperar o copiar archivos\n",
    "\n",
    "# agrega ruta de busqueda donde tenemos archivos .py\n",
    "import sys\n",
    "sys.path.append(FUENTES_DIR)"
   ]
  },
  {
   "cell_type": "code",
   "execution_count": 25,
   "metadata": {},
   "outputs": [],
   "source": [
    "nombre_archivo = 'C:\\\\Users\\\\Usuario\\\\Documents\\\\GitHub\\\\Deep-Learning\\\\Datos-Fuentes\\\\Datos\\\\Vinos.csv'\n",
    "\n"
   ]
  },
  {
   "cell_type": "code",
   "execution_count": 41,
   "metadata": {},
   "outputs": [
    {
     "name": "stdout",
     "output_type": "stream",
     "text": [
      "El archivo C:\\Users\\Usuario\\Documents\\GitHub\\Deep-Learning\\Datos-Fuentes\\Datos\\Vinos.csv existe.\n"
     ]
    }
   ],
   "source": [
    "import os\n",
    "\n",
    "##nombre_archivo = './Datos-Fuentes/Datos/Vinos.csv'\n",
    "\n",
    "# Verifica si el archivo existe\n",
    "if os.path.exists(nombre_archivo):\n",
    "    print(f\"El archivo {nombre_archivo} existe.\")\n",
    "else:\n",
    "    print(f\"El archivo {nombre_archivo} no se encuentra en la ruta especificada.\")\n"
   ]
  },
  {
   "cell_type": "code",
   "execution_count": 42,
   "metadata": {},
   "outputs": [
    {
     "data": {
      "text/html": [
       "<div>\n",
       "<style scoped>\n",
       "    .dataframe tbody tr th:only-of-type {\n",
       "        vertical-align: middle;\n",
       "    }\n",
       "\n",
       "    .dataframe tbody tr th {\n",
       "        vertical-align: top;\n",
       "    }\n",
       "\n",
       "    .dataframe thead th {\n",
       "        text-align: right;\n",
       "    }\n",
       "</style>\n",
       "<table border=\"1\" class=\"dataframe\">\n",
       "  <thead>\n",
       "    <tr style=\"text-align: right;\">\n",
       "      <th></th>\n",
       "      <th>Class</th>\n",
       "      <th>Alcohol</th>\n",
       "      <th>Malic acid</th>\n",
       "      <th>Ash</th>\n",
       "      <th>Alcalinity of ash</th>\n",
       "      <th>Magnesium</th>\n",
       "      <th>Total phenols</th>\n",
       "      <th>Flavanoids</th>\n",
       "      <th>Nonflavanoid phenols</th>\n",
       "      <th>Proanthocyanins</th>\n",
       "      <th>Color intensity</th>\n",
       "      <th>Hue</th>\n",
       "      <th>OD280/OD315</th>\n",
       "      <th>Proline</th>\n",
       "    </tr>\n",
       "  </thead>\n",
       "  <tbody>\n",
       "    <tr>\n",
       "      <th>0</th>\n",
       "      <td>1</td>\n",
       "      <td>14.23</td>\n",
       "      <td>1.71</td>\n",
       "      <td>2.43</td>\n",
       "      <td>15.6</td>\n",
       "      <td>127</td>\n",
       "      <td>2.80</td>\n",
       "      <td>3.06</td>\n",
       "      <td>0.28</td>\n",
       "      <td>2.29</td>\n",
       "      <td>5.64</td>\n",
       "      <td>1.04</td>\n",
       "      <td>3.92</td>\n",
       "      <td>1065</td>\n",
       "    </tr>\n",
       "    <tr>\n",
       "      <th>1</th>\n",
       "      <td>1</td>\n",
       "      <td>13.20</td>\n",
       "      <td>1.78</td>\n",
       "      <td>2.14</td>\n",
       "      <td>11.2</td>\n",
       "      <td>100</td>\n",
       "      <td>2.65</td>\n",
       "      <td>2.76</td>\n",
       "      <td>0.26</td>\n",
       "      <td>1.28</td>\n",
       "      <td>4.38</td>\n",
       "      <td>1.05</td>\n",
       "      <td>3.40</td>\n",
       "      <td>1050</td>\n",
       "    </tr>\n",
       "    <tr>\n",
       "      <th>2</th>\n",
       "      <td>1</td>\n",
       "      <td>13.16</td>\n",
       "      <td>2.36</td>\n",
       "      <td>2.67</td>\n",
       "      <td>18.6</td>\n",
       "      <td>101</td>\n",
       "      <td>2.80</td>\n",
       "      <td>3.24</td>\n",
       "      <td>0.30</td>\n",
       "      <td>2.81</td>\n",
       "      <td>5.68</td>\n",
       "      <td>1.03</td>\n",
       "      <td>3.17</td>\n",
       "      <td>1185</td>\n",
       "    </tr>\n",
       "    <tr>\n",
       "      <th>3</th>\n",
       "      <td>1</td>\n",
       "      <td>14.37</td>\n",
       "      <td>1.95</td>\n",
       "      <td>2.50</td>\n",
       "      <td>16.8</td>\n",
       "      <td>113</td>\n",
       "      <td>3.85</td>\n",
       "      <td>3.49</td>\n",
       "      <td>0.24</td>\n",
       "      <td>2.18</td>\n",
       "      <td>7.80</td>\n",
       "      <td>0.86</td>\n",
       "      <td>3.45</td>\n",
       "      <td>1480</td>\n",
       "    </tr>\n",
       "    <tr>\n",
       "      <th>4</th>\n",
       "      <td>1</td>\n",
       "      <td>13.24</td>\n",
       "      <td>2.59</td>\n",
       "      <td>2.87</td>\n",
       "      <td>21.0</td>\n",
       "      <td>118</td>\n",
       "      <td>2.80</td>\n",
       "      <td>2.69</td>\n",
       "      <td>0.39</td>\n",
       "      <td>1.82</td>\n",
       "      <td>4.32</td>\n",
       "      <td>1.04</td>\n",
       "      <td>2.93</td>\n",
       "      <td>735</td>\n",
       "    </tr>\n",
       "  </tbody>\n",
       "</table>\n",
       "</div>"
      ],
      "text/plain": [
       "   Class  Alcohol  Malic acid   Ash  Alcalinity of ash  Magnesium  \\\n",
       "0      1    14.23        1.71  2.43               15.6        127   \n",
       "1      1    13.20        1.78  2.14               11.2        100   \n",
       "2      1    13.16        2.36  2.67               18.6        101   \n",
       "3      1    14.37        1.95  2.50               16.8        113   \n",
       "4      1    13.24        2.59  2.87               21.0        118   \n",
       "\n",
       "   Total phenols  Flavanoids  Nonflavanoid phenols  Proanthocyanins  \\\n",
       "0           2.80        3.06                  0.28             2.29   \n",
       "1           2.65        2.76                  0.26             1.28   \n",
       "2           2.80        3.24                  0.30             2.81   \n",
       "3           3.85        3.49                  0.24             2.18   \n",
       "4           2.80        2.69                  0.39             1.82   \n",
       "\n",
       "   Color intensity   Hue  OD280/OD315  Proline  \n",
       "0             5.64  1.04         3.92     1065  \n",
       "1             4.38  1.05         3.40     1050  \n",
       "2             5.68  1.03         3.17     1185  \n",
       "3             7.80  0.86         3.45     1480  \n",
       "4             4.32  1.04         2.93      735  "
      ]
     },
     "execution_count": 42,
     "metadata": {},
     "output_type": "execute_result"
    }
   ],
   "source": [
    "import chardet\n",
    "import pandas as pd\n",
    "##nombre_archivo = DATOS_DIR + 'Vinos.csv' # archivo de hojas\n",
    "\n",
    "#-- detectando la codificación de caracteres usada ----\n",
    "with open(nombre_archivo, 'rb') as f:\n",
    "    result = chardet.detect(f.read())  # or readline if the file is large\n",
    "\n",
    "# recupera el archivo en un objeto dataframe de pandas utilizando la codificación detectada\n",
    "df = pd.read_csv(nombre_archivo, encoding=result['encoding'], sep=\";\")\n",
    "\n",
    "# visualiza el dataframe\n",
    "\n",
    "df.head()"
   ]
  },
  {
   "cell_type": "code",
   "execution_count": 56,
   "metadata": {},
   "outputs": [
    {
     "data": {
      "text/plain": [
       "array([1, 2, 3], dtype=int64)"
      ]
     },
     "execution_count": 56,
     "metadata": {},
     "output_type": "execute_result"
    }
   ],
   "source": [
    "df.Class.unique()"
   ]
  },
  {
   "cell_type": "code",
   "execution_count": 57,
   "metadata": {},
   "outputs": [],
   "source": [
    "import numpy as np\n",
    "\n",
    "from sklearn import preprocessing, model_selection\n",
    "from sklearn.neural_network import MLPClassifier\n",
    "from matplotlib import pyplot as plt"
   ]
  },
  {
   "cell_type": "code",
   "execution_count": 58,
   "metadata": {},
   "outputs": [],
   "source": [
    "X = np.array(df.iloc[:,1:])\n",
    "T = np.array(df.iloc[:,:1])"
   ]
  },
  {
   "cell_type": "code",
   "execution_count": 59,
   "metadata": {},
   "outputs": [],
   "source": [
    "# Realizo one-hot encoding en las clases para convertir las etiquetas en formato binario (matriz de 0s y 1s)\n",
    "binarizer = preprocessing.LabelBinarizer()\n",
    "T = binarizer.fit_transform(T)\n",
    "\n",
    "# Divido los datos en entrenamiento (80%) y prueba (20%) para evaluar el modelo en datos no vistos\n",
    "X_train, X_test, T_train, T_test = model_selection.train_test_split(X, T, test_size=0.2)\n",
    "\n",
    "# Normalizo los datos de entrada (X) para que tengan media 0 y desviación estándar 1 (mejora el rendimiento del modelo)\n",
    "scaler = preprocessing.StandardScaler()\n",
    "\n",
    "# Calculo la media y desviación estándar de los datos de entrenamiento y transformo (ajusto y aplico)\n",
    "X_train = scaler.fit_transform(X_train)\n",
    "\n",
    "# Normalizo los datos de prueba utilizando la media y desviación calculada en el conjunto de entrenamiento\n",
    "# (Esto asegura que la normalización se haga de manera consistente)\n",
    "X_test = scaler.transform(X_test)\n"
   ]
  },
  {
   "cell_type": "code",
   "execution_count": 78,
   "metadata": {},
   "outputs": [],
   "source": [
    "\n",
    "modelo = MLPClassifier(\n",
    "    hidden_layer_sizes=(2),     # Tamaño de la capa oculta: (2) significa que tiene una capa oculta con 2 neuronas.\n",
    "    tol=1.0e-4,                 # Tolerancia para la parada temprana: Si la mejora es menor que 1e-4, el entrenamiento se detiene.\n",
    "    activation='relu',          # Función de activación: 'relu' (Rectified Linear Unit). Es muy eficiente en redes neuronales.\n",
    "    solver='adam',              # Método de optimización: 'adam'. Es un algoritmo de optimización que adapta el learning rate\n",
    "    alpha=0.005,                # Coeficiente de regularización L2. Controla el overfitting. Un valor más alto\n",
    "    max_iter=2500              # Número máximo de iteraciones (épocas) que el modelo ejecutará durante el entrenamiento.\n",
    ").fit(X_train,T_train)\n",
    "\n",
    "# Entrenamos el modelo con los datos de entrenamiento.\n",
    "# X_train contiene los ejemplos de entrada (características) y T_train son las etiquetas de las clases.\n",
    "# .fit() ajusta los pesos de la red a los datos para minimizar la función de pérdida.\n"
   ]
  },
  {
   "cell_type": "code",
   "execution_count": 79,
   "metadata": {},
   "outputs": [
    {
     "name": "stdout",
     "output_type": "stream",
     "text": [
      "Efectividad:  97.89%\n",
      "      Score:   0.98\n",
      "[2 3 2 2 3 1 2 2 1 1 2 1 3 3 2 1 1 1 1 1 2 3 3 3 3 2 2 2 2 2 2 3 2 2 1 3 1\n",
      " 3 2 2 2 1 1 3 2 2 1 2 1 2 1 1 1 1 1 3 2 1 2 1 2 1 2 3 3 3 1 3 2 3 1 1 2 3\n",
      " 2 2 3 3 1 1 3 1 2 2 3 1 1 2 3 3 2 3 2 1 3 1 1 1 2 2 2 1 1 3 1 2 3 3 3 3 2\n",
      " 3 2 1 1 1 2 2 3 2 1 3 1 3 3 2 2 1 1 1 2 2 2 1 2 2 1 1 2 3 2 2]\n"
     ]
    }
   ],
   "source": [
    "Y_predict=modelo.predict(X_train) #Hago la prediccion usando el modelo entrenado\n",
    "score=modelo.score(X_train, T_train) #calculo el accuracy del modelo\n",
    "Y_it=binarizer.inverse_transform(T_train)# \"invierte\" la transformacion\n",
    "Y_predict_it=binarizer.inverse_transform(Y_predict)\n",
    "print('Efectividad: %6.2f%%' % (100*(Y_predict_it == Y_it).sum()/len(Y_it)) )\n",
    "print('      Score: %6.2f' % (score) )\n",
    "print(Y_predict_it)\n",
    "\n"
   ]
  }
 ],
 "metadata": {
  "kernelspec": {
   "display_name": "base",
   "language": "python",
   "name": "python3"
  },
  "language_info": {
   "codemirror_mode": {
    "name": "ipython",
    "version": 3
   },
   "file_extension": ".py",
   "mimetype": "text/x-python",
   "name": "python",
   "nbconvert_exporter": "python",
   "pygments_lexer": "ipython3",
   "version": "3.12.4"
  }
 },
 "nbformat": 4,
 "nbformat_minor": 2
}
