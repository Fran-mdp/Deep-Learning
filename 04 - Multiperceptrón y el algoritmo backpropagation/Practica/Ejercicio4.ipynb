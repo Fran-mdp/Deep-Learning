{
 "cells": [
  {
   "cell_type": "code",
   "execution_count": 12,
   "metadata": {},
   "outputs": [],
   "source": [
    "nombre_archivo = 'C:\\\\Users\\\\Usuario\\\\Documents\\\\GitHub\\\\Deep-Learning\\\\Datos-Fuentes\\\\Datos\\\\Balance.csv'"
   ]
  },
  {
   "cell_type": "code",
   "execution_count": 13,
   "metadata": {},
   "outputs": [
    {
     "name": "stdout",
     "output_type": "stream",
     "text": [
      "El archivo C:\\Users\\Usuario\\Documents\\GitHub\\Deep-Learning\\Datos-Fuentes\\Datos\\Balance.csv existe.\n"
     ]
    }
   ],
   "source": [
    "import os\n",
    "\n",
    "##nombre_archivo = './Datos-Fuentes/Datos/Vinos.csv'\n",
    "\n",
    "# Verifica si el archivo existe\n",
    "if os.path.exists(nombre_archivo):\n",
    "    print(f\"El archivo {nombre_archivo} existe.\")\n",
    "else:\n",
    "    print(f\"El archivo {nombre_archivo} no se encuentra en la ruta especificada.\")\n"
   ]
  },
  {
   "cell_type": "code",
   "execution_count": 33,
   "metadata": {},
   "outputs": [
    {
     "name": "stdout",
     "output_type": "stream",
     "text": [
      "   Balance  LeftWeight  LeftDist  RightWeight  RightDist\n",
      "0        B           1         1            1          1\n",
      "1        R           1         1            1          2\n",
      "2        R           1         1            1          3\n",
      "3        R           1         1            1          4\n",
      "4        R           1         1            1          5\n",
      "5        R           1         1            2          1\n",
      "6        R           1         1            2          2\n",
      "7        R           1         1            2          3\n",
      "8        R           1         1            2          4\n",
      "9        R           1         1            2          5\n",
      "10       R           1         1            3          1\n",
      "11       R           1         1            3          2\n",
      "Index(['Balance', 'LeftWeight', 'LeftDist', 'RightWeight', 'RightDist'], dtype='object')\n",
      "object\n"
     ]
    },
    {
     "data": {
      "text/plain": [
       "<Axes: >"
      ]
     },
     "execution_count": 33,
     "metadata": {},
     "output_type": "execute_result"
    },
    {
     "data": {
      "image/png": "[encoded data removed]",
      "text/plain": [
       "<Figure size 640x480 with 1 Axes>"
      ]
     },
     "metadata": {},
     "output_type": "display_data"
    }
   ],
   "source": [
    "import chardet\n",
    "import pandas as pd\n",
    "\n",
    "# Detectar la codificación de caracteres usada\n",
    "with open(nombre_archivo, 'rb') as f:\n",
    "    result = chardet.detect(f.read())\n",
    "\n",
    "# Leer el archivo CSV correctamente usando el delimitador apropiado (probablemente una coma \",\")\n",
    "df = pd.read_csv(nombre_archivo, encoding=result['encoding'], sep=\",\")\n",
    "\n",
    "# Ver las primeras 12 filas para verificar que se haya leído correctamente\n",
    "print(df.head(12))\n",
    "print(df.columns)  # Verifica los nombres de las columnas\n",
    "\n",
    "# Ahora verifica el tipo de datos de la columna 'Balance'\n",
    "print(df['Balance'].dtype)\n",
    "\n",
    "# Finalmente, grafica el histograma de la columna 'Balance'\n",
    "df['Balance'].hist(bins=3)\n"
   ]
  },
  {
   "cell_type": "code",
   "execution_count": 66,
   "metadata": {},
   "outputs": [
    {
     "data": {
      "text/plain": [
       "array(['B', 'R', 'L'], dtype=object)"
      ]
     },
     "execution_count": 66,
     "metadata": {},
     "output_type": "execute_result"
    }
   ],
   "source": [
    "df.Balance.unique()"
   ]
  },
  {
   "cell_type": "code",
   "execution_count": 67,
   "metadata": {},
   "outputs": [],
   "source": [
    "import numpy as np\n",
    "\n",
    "from sklearn import preprocessing, model_selection\n",
    "from sklearn.neural_network import MLPClassifier\n",
    "from matplotlib import pyplot as plt"
   ]
  },
  {
   "cell_type": "code",
   "execution_count": 68,
   "metadata": {},
   "outputs": [],
   "source": [
    "X_columns = np.array(df.iloc[:,1:])\n",
    "Y_columns = np.array(df.iloc[:,:1])"
   ]
  },
  {
   "cell_type": "code",
   "execution_count": 71,
   "metadata": {},
   "outputs": [
    {
     "name": "stdout",
     "output_type": "stream",
     "text": [
      "Las clases del dataset son : [1 2 3 4 5]\n",
      "[[1 0 0 0 0]\n",
      " [1 0 0 0 0]\n",
      " [1 0 0 0 0]\n",
      " ...\n",
      " [0 0 0 0 1]\n",
      " [0 0 0 0 1]\n",
      " [0 0 0 0 1]]\n",
      "\n",
      "Datos de Entrenamiento: 437   Datos de Testeo: 188\n"
     ]
    }
   ],
   "source": [
    "# %% separa atributos y clases\n",
    "X_raw = np.array(df.iloc[:,1:])  # recupera todas las columnas salvo la primera (es la clase)\n",
    "Y_raw = np.array(df.iloc[:,1])    # recupera solo la primera columna (es la clase)\n",
    "\n",
    "# Binarizador para convertir el nombre de la clase en one hot encoding\n",
    "binarizer = preprocessing.LabelBinarizer()\n",
    "\n",
    "# Binariza cada clase como una combinación de un 1 y 0s\n",
    "Y_raw = binarizer.fit_transform(Y_raw)\n",
    "# Y_raw==pd.get_dummies(df[' Balance']).to_numpy() # forma alternativa para codificar\n",
    "\n",
    "print('Las clases del dataset son :', binarizer.classes_)\n",
    "print(Y_raw)\n",
    "\n",
    "# %% Separa ejemplos para enternamiento y testeo\n",
    "TEST_SIZE = 0.3 # proporcion entre testeo entre entrenamiento y testeo\n",
    "X_train, X_test, Y_train, Y_test = model_selection.train_test_split(X_raw, Y_raw, test_size=TEST_SIZE)#, random_state=42)\n",
    "print('\\nDatos de Entrenamiento: %d   Datos de Testeo: %d' % (len(Y_train), len(Y_test) ))\n",
    "\n",
    "# Escala los atributos de los ejemplo\n",
    "scaler = preprocessing.StandardScaler()\n",
    "#scaler = preprocessing.MinMaxScaler()\n",
    "\n",
    "X_train  = scaler.fit_transform( X_train )\n",
    "X_test   = scaler.transform( X_test )\n"
   ]
  },
  {
   "cell_type": "code",
   "execution_count": 74,
   "metadata": {},
   "outputs": [],
   "source": [
    "\n",
    "modelo = MLPClassifier(\n",
    "    hidden_layer_sizes=(4),     # Tamaño de la capa oculta: (2) significa que tiene una capa oculta con 2 neuronas.\n",
    "    tol=1.0e-4,                 # Tolerancia para la parada temprana: Si la mejora es menor que 1e-4, el entrenamiento se detiene.\n",
    "    activation='relu',          # Función de activación: 'relu' (Rectified Linear Unit). Es muy eficiente en redes neuronales.\n",
    "    solver='adam',              # Método de optimización: 'adam'. Es un algoritmo de optimización que adapta el learning rate\n",
    "    alpha=0.005,                # Coeficiente de regularización L2. Controla el overfitting. Un valor más alto\n",
    "    max_iter=2500              # Número máximo de iteraciones (épocas) que el modelo ejecutará durante el entrenamiento.\n",
    ").fit(X_train,Y_train)"
   ]
  },
  {
   "cell_type": "code",
   "execution_count": 1,
   "metadata": {},
   "outputs": [
    {
     "ename": "NameError",
     "evalue": "name 'modelo' is not defined",
     "output_type": "error",
     "traceback": [
      "\u001b[1;31m---------------------------------------------------------------------------\u001b[0m",
      "\u001b[1;31mNameError\u001b[0m                                 Traceback (most recent call last)",
      "Cell \u001b[1;32mIn[1], line 1\u001b[0m\n\u001b[1;32m----> 1\u001b[0m Y_predict\u001b[38;5;241m=\u001b[39mmodelo\u001b[38;5;241m.\u001b[39mpredict(X_train) \u001b[38;5;66;03m#Hago la prediccion usando el modelo entrenado\u001b[39;00m\n\u001b[0;32m      2\u001b[0m score\u001b[38;5;241m=\u001b[39mmodelo\u001b[38;5;241m.\u001b[39mscore(X_train, Y_train) \u001b[38;5;66;03m#calculo el accuracy del modelo\u001b[39;00m\n\u001b[0;32m      3\u001b[0m Y_it\u001b[38;5;241m=\u001b[39mbinarizer\u001b[38;5;241m.\u001b[39minverse_transform(Y_train)\u001b[38;5;66;03m# \"invierte\" la transformacion\u001b[39;00m\n",
      "\u001b[1;31mNameError\u001b[0m: name 'modelo' is not defined"
     ]
    }
   ],
   "source": [
    "Y_predict=modelo.predict(X_train) #Hago la prediccion usando el modelo entrenado\n",
    "score=modelo.score(X_train, Y_train) #calculo el accuracy del modelo\n",
    "Y_it=binarizer.inverse_transform(Y_train)# \"invierte\" la transformacion\n",
    "Y_predict_it=binarizer.inverse_transform(Y_predict)\n",
    "print('Efectividad: %6.2f%%' % (100*(Y_predict_it == Y_it).sum()/len(Y_it)) )\n",
    "print('      Score: %6.2f' % (score) )\n",
    "print(Y_predict_it)\n"
   ]
  }
 ],
 "metadata": {
  "kernelspec": {
   "display_name": "base",
   "language": "python",
   "name": "python3"
  },
  "language_info": {
   "codemirror_mode": {
    "name": "ipython",
    "version": 3
   },
   "file_extension": ".py",
   "mimetype": "text/x-python",
   "name": "python",
   "nbconvert_exporter": "python",
   "pygments_lexer": "ipython3",
   "version": "3.12.4"
  }
 },
 "nbformat": 4,
 "nbformat_minor": 2
}
